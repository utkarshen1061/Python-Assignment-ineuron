{
 "cells": [
  {
   "cell_type": "raw",
   "id": "b8fec884",
   "metadata": {},
   "source": [
    "Q1- Write a python program to convert km into miles.\n",
    "a=float(input(\"Please enter the distance\"))\n",
    "## To convert km into miles we have to multiply given distance in km by (5/8).\n",
    "c=a*(5/8)\n",
    "print(c)"
   ]
  },
  {
   "cell_type": "raw",
   "id": "087ae7ae",
   "metadata": {},
   "source": [
    "Q2- Write a python program to convert temprature of Celsius into fahrenhit?\n",
    "s=float(input(\"Please enter the temperature in deg.C\"))\n",
    "## Formula used to convert deg.C in Farahenit is : (s*(9/5))+32.\n",
    "f=(9/5)\n",
    "v=(s*f)+32\n",
    "print(\"Temprature in farahenit will be : \" , v)"
   ]
  },
  {
   "cell_type": "raw",
   "id": "30dae425",
   "metadata": {},
   "source": [
    "Q3- Write a python program to print the calendar?\n",
    "import calendar\n",
    "year=int(input(\"Please enter the year\"))\n",
    "month=int(input(\"Please enter the month\"))\n",
    "print(calendar.month(year,month))"
   ]
  },
  {
   "cell_type": "raw",
   "id": "7b2843bf",
   "metadata": {},
   "source": [
    "Q4- Write a program in python to solve quadratic equation?\n",
    "a=int(input(\"Please enter the value of a\"))\n",
    "b=int(input(\"Please enter the value of b\"))\n",
    "c=int(input(\"Please enter the value of c\"))\n",
    "discriminant=b**2-4*a*c\n",
    "root1=(-b-(discriminant*0.5))/(2*a)\n",
    "root2=(-b+(discriminant*0.5))/(2*a)\n",
    "print(\"Values of roots are :\" , root1 , root2)\n",
    "print(discriminant)"
   ]
  },
  {
   "cell_type": "raw",
   "id": "7507d3a6",
   "metadata": {},
   "source": [
    "Q5- Write a program to swap two variables without using third variable\n",
    "A=int(input(\"Please enter the value of A\"))\n",
    "B=int(input(\"Please enter the value of B\"))\n",
    "A,B=B,A\n",
    "print(\"Value of A after swapping : \" , A)\n",
    "print(\"Value of B after swapping : \" , B)"
   ]
  },
  {
   "cell_type": "raw",
   "id": "e9894135",
   "metadata": {},
   "source": [
    "A=int(input(\"Please enter the value of A\"))\n",
    "B=int(input(\"Please enter the value of B\"))\n",
    "A=A+B\n",
    "B=A-B\n",
    "A=A-B\n",
    "print(\"Value of A after swapping : \" , A)\n",
    "print(\"Value of B after swapping : \" , B)"
   ]
  },
  {
   "cell_type": "code",
   "execution_count": null,
   "id": "8242579f",
   "metadata": {},
   "outputs": [],
   "source": []
  }
 ],
 "metadata": {
  "kernelspec": {
   "display_name": "Python 3",
   "language": "python",
   "name": "python3"
  },
  "language_info": {
   "codemirror_mode": {
    "name": "ipython",
    "version": 3
   },
   "file_extension": ".py",
   "mimetype": "text/x-python",
   "name": "python",
   "nbconvert_exporter": "python",
   "pygments_lexer": "ipython3",
   "version": "3.8.8"
  }
 },
 "nbformat": 4,
 "nbformat_minor": 5
}
