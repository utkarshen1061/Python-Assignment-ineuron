{
 "cells": [
  {
   "cell_type": "raw",
   "id": "1d4c561f",
   "metadata": {},
   "source": [
    "Q1-Write a program in python to check whether given number is positive , negative or zero?\n",
    "a=int(input(\"Please enter the value of a\"))\n",
    "if a>0:\n",
    "    print(\"Number is positive\")\n",
    "elif a==0:\n",
    "    print(\"Number is equal to zero\")\n",
    "else:\n",
    "    print(\"Number is negtive\")"
   ]
  },
  {
   "cell_type": "raw",
   "id": "bfa22c2f",
   "metadata": {},
   "source": [
    "Q2- Write a program in python to check whether given number is odd or even?\n",
    "a=int(input(\"Please enter the number\"))\n",
    "if a%2==0:\n",
    "    print(\"Number is even\")\n",
    "else :\n",
    "    print(\"Number is odd\")"
   ]
  },
  {
   "cell_type": "raw",
   "id": "ec2afbdb",
   "metadata": {},
   "source": [
    "Q3- Write a program to check a leap year?\n",
    "a=int(input(\"Please enter the year\"))\n",
    "if a%4==0:\n",
    "    print(\"Entered Year is a leap year\")\n",
    "else:\n",
    "    print(\"Entered Year is not a leap year\")"
   ]
  },
  {
   "cell_type": "code",
   "execution_count": 44,
   "id": "1f65275e",
   "metadata": {},
   "outputs": [
    {
     "name": "stdout",
     "output_type": "stream",
     "text": [
      "Please enter a number41\n",
      "Number is prime\n"
     ]
    }
   ],
   "source": [
    "##Q4 - Write a program in python to check if number is prime?\n",
    "a=int(input(\"Please enter a number\"))\n",
    "for i in range(2,a):\n",
    "    if a%i==0:\n",
    "        print(\"Number is not prime\")\n",
    "        break\n",
    "else:\n",
    "    print(\"Number is prime\")"
   ]
  },
  {
   "cell_type": "raw",
   "id": "02c987c5",
   "metadata": {},
   "source": [
    "Q5-Write a program in python to print all prime numbers in terval of 1-10000?\n",
    "for a in range(1,10001):\n",
    "    for i in range(2,a):\n",
    "        if a%i==0:\n",
    "            break\n",
    "        \n",
    "    else:\n",
    "        print(a)\n",
    "        \n",
    "    "
   ]
  },
  {
   "cell_type": "code",
   "execution_count": null,
   "id": "53462f5f",
   "metadata": {},
   "outputs": [],
   "source": []
  }
 ],
 "metadata": {
  "kernelspec": {
   "display_name": "Python 3",
   "language": "python",
   "name": "python3"
  },
  "language_info": {
   "codemirror_mode": {
    "name": "ipython",
    "version": 3
   },
   "file_extension": ".py",
   "mimetype": "text/x-python",
   "name": "python",
   "nbconvert_exporter": "python",
   "pygments_lexer": "ipython3",
   "version": "3.8.8"
  }
 },
 "nbformat": 4,
 "nbformat_minor": 5
}
