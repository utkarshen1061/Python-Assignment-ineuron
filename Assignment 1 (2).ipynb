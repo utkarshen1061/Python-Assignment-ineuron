{
 "cells": [
  {
   "cell_type": "raw",
   "id": "e0e13975",
   "metadata": {},
   "source": []
  },
  {
   "cell_type": "raw",
   "id": "6aa0e006",
   "metadata": {},
   "source": [
    "Q1- Write a python program to print \"Hello Python\"?\n",
    "print(\"Hello Python\")"
   ]
  },
  {
   "cell_type": "markdown",
   "id": "0513e3ce",
   "metadata": {},
   "source": []
  },
  {
   "cell_type": "raw",
   "id": "14a39c8b",
   "metadata": {},
   "source": [
    "Q2- Write a python program to do arthimetical addition and division?\n",
    "a=int(input(\"Please enter the first number\"))\n",
    "b=int(input(\"Please enter the second number\"))\n",
    "c=a+b\n",
    "print(c)\n",
    "d=a/b\n",
    "print(d)"
   ]
  },
  {
   "cell_type": "markdown",
   "id": "6d88e4b8",
   "metadata": {},
   "source": []
  },
  {
   "cell_type": "raw",
   "id": "05657884",
   "metadata": {},
   "source": [
    "Q3- Write a python program to find area of triangle?\n",
    "a=int(input(\"Please enter the hieght\"))\n",
    "b=int(input(\"Please enter the base\"))\n",
    "c=(a*b)/2\n",
    "print(\"Area of traiangle is : \" ,c)"
   ]
  },
  {
   "cell_type": "markdown",
   "id": "31b01bc5",
   "metadata": {},
   "source": []
  },
  {
   "cell_type": "raw",
   "id": "3f122f63",
   "metadata": {},
   "source": [
    "Q4- Write a pogram in python to swap two variables?\n",
    "a=int(input(\"Please enter the first value\"))\n",
    "b=int(input(\"Please enter the value of Second\"))\n",
    "print(\"Values before swaping :\")\n",
    "print(a)\n",
    "print(b)\n",
    "temp=a\n",
    "a=b\n",
    "b=temp\n",
    "print(\"Values after swapping :\")\n",
    "print(a)\n",
    "print(b)"
   ]
  },
  {
   "cell_type": "markdown",
   "id": "eb1ff715",
   "metadata": {},
   "source": []
  },
  {
   "cell_type": "raw",
   "id": "2972e999",
   "metadata": {},
   "source": [
    "Q5- Write a python program to generate random number?\n",
    "import random\n",
    "n=random.randint(1,50)\n",
    "print(n)"
   ]
  },
  {
   "cell_type": "code",
   "execution_count": null,
   "id": "48de0881",
   "metadata": {},
   "outputs": [],
   "source": []
  }
 ],
 "metadata": {
  "kernelspec": {
   "display_name": "Python 3",
   "language": "python",
   "name": "python3"
  },
  "language_info": {
   "codemirror_mode": {
    "name": "ipython",
    "version": 3
   },
   "file_extension": ".py",
   "mimetype": "text/x-python",
   "name": "python",
   "nbconvert_exporter": "python",
   "pygments_lexer": "ipython3",
   "version": "3.8.8"
  }
 },
 "nbformat": 4,
 "nbformat_minor": 5
}
